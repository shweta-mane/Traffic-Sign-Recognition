{
 "cells": [
  {
   "cell_type": "code",
   "execution_count": 1,
   "metadata": {},
   "outputs": [],
   "source": [
    "import tensorflow as tf\n",
    "import pandas\n",
    "import numpy as np\n",
    "import os"
   ]
  },
  {
   "cell_type": "code",
   "execution_count": 2,
   "metadata": {},
   "outputs": [],
   "source": [
    "from tensorflow.keras.models import Sequential\n",
    "from tensorflow.keras.layers import Dense, Conv2D, Flatten, Dropout, MaxPooling2D, BatchNormalization\n",
    "from tensorflow.keras.preprocessing.image import ImageDataGenerator\n",
    "from tensorflow.keras.optimizers import Adam\n",
    "from sklearn.utils import class_weight"
   ]
  },
  {
   "cell_type": "code",
   "execution_count": 3,
   "metadata": {},
   "outputs": [],
   "source": [
    "path = os.getcwd()\n",
    "path = os.path.join(path, \"gtsrb-german-traffic-sign\")"
   ]
  },
  {
   "cell_type": "code",
   "execution_count": 4,
   "metadata": {},
   "outputs": [],
   "source": [
    "batch_size = 64\n",
    "epochs = 30\n",
    "INIT_LR = 1e-3\n",
    "IMG_HEIGHT = 32\n",
    "IMG_WIDTH = 32\n",
    "numClasses = 43"
   ]
  },
  {
   "cell_type": "code",
   "execution_count": 5,
   "metadata": {
    "scrolled": false
   },
   "outputs": [],
   "source": [
    "train_image_generator = ImageDataGenerator(rescale=1./255, \n",
    "                                           rotation_range=10, \n",
    "                                           zoom_range=0.15,\n",
    "                                           width_shift_range=0.1,\n",
    "                                           height_shift_range=0.1,\n",
    "                                           shear_range=0.15,\n",
    "                                           horizontal_flip=False,\n",
    "                                           vertical_flip=False,\n",
    "                                           fill_mode=\"nearest\")\n",
    "\n",
    "test_image_generator = ImageDataGenerator(validation_split=0.8, rescale=1./255)"
   ]
  },
  {
   "cell_type": "code",
   "execution_count": 6,
   "metadata": {},
   "outputs": [],
   "source": [
    "train_csv = os.path.join(path, \"Train.csv\")\n",
    "train_df = pandas.read_csv(train_csv, dtype=str, usecols = [\"Path\",\"ClassId\"])"
   ]
  },
  {
   "cell_type": "code",
   "execution_count": 7,
   "metadata": {},
   "outputs": [
    {
     "name": "stdout",
     "output_type": "stream",
     "text": [
      "Found 39209 validated image filenames belonging to 43 classes.\n"
     ]
    }
   ],
   "source": [
    "train_data_gen = train_image_generator.flow_from_dataframe(\n",
    "        dataframe=train_df,\n",
    "        directory=path,\n",
    "        shuffle=True,\n",
    "        x_col=\"Path\",\n",
    "        y_col=\"ClassId\",\n",
    "        target_size=(IMG_HEIGHT, IMG_WIDTH),\n",
    "        batch_size=batch_size,\n",
    "        class_mode='categorical')"
   ]
  },
  {
   "cell_type": "code",
   "execution_count": 8,
   "metadata": {},
   "outputs": [
    {
     "data": {
      "text/plain": [
       "{'0': 0,\n",
       " '1': 1,\n",
       " '10': 2,\n",
       " '11': 3,\n",
       " '12': 4,\n",
       " '13': 5,\n",
       " '14': 6,\n",
       " '15': 7,\n",
       " '16': 8,\n",
       " '17': 9,\n",
       " '18': 10,\n",
       " '19': 11,\n",
       " '2': 12,\n",
       " '20': 13,\n",
       " '21': 14,\n",
       " '22': 15,\n",
       " '23': 16,\n",
       " '24': 17,\n",
       " '25': 18,\n",
       " '26': 19,\n",
       " '27': 20,\n",
       " '28': 21,\n",
       " '29': 22,\n",
       " '3': 23,\n",
       " '30': 24,\n",
       " '31': 25,\n",
       " '32': 26,\n",
       " '33': 27,\n",
       " '34': 28,\n",
       " '35': 29,\n",
       " '36': 30,\n",
       " '37': 31,\n",
       " '38': 32,\n",
       " '39': 33,\n",
       " '4': 34,\n",
       " '40': 35,\n",
       " '41': 36,\n",
       " '42': 37,\n",
       " '5': 38,\n",
       " '6': 39,\n",
       " '7': 40,\n",
       " '8': 41,\n",
       " '9': 42}"
      ]
     },
     "execution_count": 8,
     "metadata": {},
     "output_type": "execute_result"
    }
   ],
   "source": [
    "train_data_gen.class_indices"
   ]
  },
  {
   "cell_type": "code",
   "execution_count": 9,
   "metadata": {},
   "outputs": [],
   "source": [
    "class_weights = class_weight.compute_class_weight(\n",
    "               'balanced',\n",
    "                np.unique(train_data_gen.classes), \n",
    "                train_data_gen.classes)"
   ]
  },
  {
   "cell_type": "code",
   "execution_count": 10,
   "metadata": {},
   "outputs": [],
   "source": [
    "test_csv = os.path.join(path, \"Test.csv\")\n",
    "test_df = pandas.read_csv(test_csv, dtype=str, usecols = [\"Path\",\"ClassId\"])"
   ]
  },
  {
   "cell_type": "code",
   "execution_count": 11,
   "metadata": {},
   "outputs": [
    {
     "name": "stdout",
     "output_type": "stream",
     "text": [
      "Found 10104 validated image filenames belonging to 43 classes.\n",
      "Found 2526 validated image filenames belonging to 43 classes.\n"
     ]
    }
   ],
   "source": [
    "val_data_gen = test_image_generator.flow_from_dataframe(\n",
    "        dataframe=test_df,\n",
    "        directory=path,\n",
    "        subset='validation',\n",
    "        x_col=\"Path\",\n",
    "        y_col=\"ClassId\",\n",
    "        target_size=(IMG_HEIGHT, IMG_WIDTH),\n",
    "        batch_size=batch_size,\n",
    "        class_mode='categorical')\n",
    "\n",
    "test_data_gen = test_image_generator.flow_from_dataframe(\n",
    "        dataframe=test_df,\n",
    "        directory=path,\n",
    "        subset='training',\n",
    "        x_col=\"Path\",\n",
    "        y_col=\"ClassId\",\n",
    "        target_size=(IMG_HEIGHT, IMG_WIDTH),\n",
    "        batch_size=batch_size,\n",
    "        class_mode='categorical')"
   ]
  },
  {
   "cell_type": "code",
   "execution_count": 12,
   "metadata": {},
   "outputs": [],
   "source": [
    "model = Sequential([\n",
    "    Conv2D(8, 5, padding='same', activation='relu', input_shape=(IMG_HEIGHT, IMG_WIDTH ,3)),\n",
    "    BatchNormalization(axis=-1),\n",
    "    MaxPooling2D(pool_size=(2, 2)),\n",
    "    Conv2D(16, 3, padding='same', activation='relu'),\n",
    "    BatchNormalization(axis=-1),\n",
    "    Conv2D(16, 3, padding='same', activation='relu'),\n",
    "    BatchNormalization(axis=-1),\n",
    "    MaxPooling2D(pool_size=(2, 2)),\n",
    "    Conv2D(32, 3, padding='same', activation='relu'),\n",
    "    BatchNormalization(axis=-1),\n",
    "    Conv2D(32, 3, padding='same', activation='relu'),\n",
    "    BatchNormalization(axis=-1),\n",
    "    MaxPooling2D(pool_size=(2, 2)),\n",
    "    Flatten(),\n",
    "    Dense(128, activation='relu'),\n",
    "    BatchNormalization(),\n",
    "    Dropout(0.5),\n",
    "    Flatten(),\n",
    "    Dense(128, activation='relu'),\n",
    "    BatchNormalization(),\n",
    "    Dropout(0.5),\n",
    "    Dense(numClasses, activation='softmax')\n",
    "])"
   ]
  },
  {
   "cell_type": "code",
   "execution_count": 13,
   "metadata": {},
   "outputs": [],
   "source": [
    "opt = Adam(lr=INIT_LR, decay=INIT_LR / (epochs * 0.5))"
   ]
  },
  {
   "cell_type": "code",
   "execution_count": 14,
   "metadata": {},
   "outputs": [],
   "source": [
    "model.compile(optimizer=opt,\n",
    "              loss=tf.keras.losses.CategoricalCrossentropy(),\n",
    "              metrics=['accuracy'])"
   ]
  },
  {
   "cell_type": "code",
   "execution_count": 15,
   "metadata": {},
   "outputs": [
    {
     "name": "stdout",
     "output_type": "stream",
     "text": [
      "WARNING:tensorflow:sample_weight modes were coerced from\n",
      "  ...\n",
      "    to  \n",
      "  ['...']\n",
      "WARNING:tensorflow:sample_weight modes were coerced from\n",
      "  ...\n",
      "    to  \n",
      "  ['...']\n",
      "Train for 613 steps, validate for 158 steps\n",
      "Epoch 1/30\n",
      "613/613 [==============================] - 295s 482ms/step - loss: 2.8042 - accuracy: 0.2547 - val_loss: 1.4912 - val_accuracy: 0.4973\n",
      "Epoch 2/30\n",
      "613/613 [==============================] - 276s 451ms/step - loss: 1.5078 - accuracy: 0.5163 - val_loss: 0.9689 - val_accuracy: 0.6751\n",
      "Epoch 3/30\n",
      "613/613 [==============================] - 190s 309ms/step - loss: 1.0274 - accuracy: 0.6635 - val_loss: 0.6044 - val_accuracy: 0.7985\n",
      "Epoch 4/30\n",
      "613/613 [==============================] - 189s 309ms/step - loss: 0.7277 - accuracy: 0.7605 - val_loss: 0.4547 - val_accuracy: 0.8524\n",
      "Epoch 5/30\n",
      "613/613 [==============================] - 195s 319ms/step - loss: 0.5536 - accuracy: 0.8211 - val_loss: 0.3623 - val_accuracy: 0.8926\n",
      "Epoch 6/30\n",
      "613/613 [==============================] - 203s 331ms/step - loss: 0.4485 - accuracy: 0.8579 - val_loss: 0.3201 - val_accuracy: 0.8959\n",
      "Epoch 7/30\n",
      "613/613 [==============================] - 199s 324ms/step - loss: 0.3657 - accuracy: 0.8820 - val_loss: 0.2915 - val_accuracy: 0.9194\n",
      "Epoch 8/30\n",
      "613/613 [==============================] - 178s 291ms/step - loss: 0.3212 - accuracy: 0.8978 - val_loss: 0.3942 - val_accuracy: 0.8773\n",
      "Epoch 9/30\n",
      "613/613 [==============================] - 154s 251ms/step - loss: 0.2787 - accuracy: 0.9106 - val_loss: 0.2294 - val_accuracy: 0.9323\n",
      "Epoch 10/30\n",
      "613/613 [==============================] - 150s 245ms/step - loss: 0.2489 - accuracy: 0.9226 - val_loss: 0.2707 - val_accuracy: 0.9276\n",
      "Epoch 11/30\n",
      "613/613 [==============================] - 149s 244ms/step - loss: 0.2335 - accuracy: 0.9271 - val_loss: 0.2110 - val_accuracy: 0.9360\n",
      "Epoch 12/30\n",
      "613/613 [==============================] - 150s 244ms/step - loss: 0.2077 - accuracy: 0.9338 - val_loss: 0.2257 - val_accuracy: 0.9332\n",
      "Epoch 13/30\n",
      "613/613 [==============================] - 148s 241ms/step - loss: 0.1972 - accuracy: 0.9390 - val_loss: 0.2085 - val_accuracy: 0.9395\n",
      "Epoch 14/30\n",
      "613/613 [==============================] - 146s 238ms/step - loss: 0.1843 - accuracy: 0.9428 - val_loss: 0.2165 - val_accuracy: 0.9395\n",
      "Epoch 15/30\n",
      "613/613 [==============================] - 148s 242ms/step - loss: 0.1644 - accuracy: 0.9482 - val_loss: 0.1761 - val_accuracy: 0.9481\n",
      "Epoch 16/30\n",
      "613/613 [==============================] - 135s 220ms/step - loss: 0.1585 - accuracy: 0.9510 - val_loss: 0.1984 - val_accuracy: 0.9449\n",
      "Epoch 17/30\n",
      "613/613 [==============================] - 108s 176ms/step - loss: 0.1569 - accuracy: 0.9505 - val_loss: 0.1836 - val_accuracy: 0.9503\n",
      "Epoch 18/30\n",
      "613/613 [==============================] - 107s 175ms/step - loss: 0.1448 - accuracy: 0.9543 - val_loss: 0.1884 - val_accuracy: 0.9470\n",
      "Epoch 19/30\n",
      "613/613 [==============================] - 106s 173ms/step - loss: 0.1354 - accuracy: 0.9579 - val_loss: 0.1964 - val_accuracy: 0.9479\n",
      "Epoch 20/30\n",
      "613/613 [==============================] - 108s 175ms/step - loss: 0.1300 - accuracy: 0.9598 - val_loss: 0.1820 - val_accuracy: 0.9489\n",
      "Epoch 21/30\n",
      "613/613 [==============================] - 109s 178ms/step - loss: 0.1244 - accuracy: 0.9615 - val_loss: 0.2075 - val_accuracy: 0.9426\n",
      "Epoch 22/30\n",
      "613/613 [==============================] - 111s 181ms/step - loss: 0.1255 - accuracy: 0.9607 - val_loss: 0.1819 - val_accuracy: 0.9506\n",
      "Epoch 23/30\n",
      "613/613 [==============================] - 112s 183ms/step - loss: 0.1141 - accuracy: 0.9641 - val_loss: 0.1728 - val_accuracy: 0.9524\n",
      "Epoch 24/30\n",
      "613/613 [==============================] - 106s 173ms/step - loss: 0.1145 - accuracy: 0.9643 - val_loss: 0.1728 - val_accuracy: 0.9542\n",
      "Epoch 25/30\n",
      "613/613 [==============================] - 109s 178ms/step - loss: 0.1097 - accuracy: 0.9670 - val_loss: 0.1773 - val_accuracy: 0.9529\n",
      "Epoch 26/30\n",
      "613/613 [==============================] - 110s 179ms/step - loss: 0.1028 - accuracy: 0.9692 - val_loss: 0.1873 - val_accuracy: 0.9459\n",
      "Epoch 27/30\n",
      "613/613 [==============================] - 106s 173ms/step - loss: 0.1019 - accuracy: 0.9677 - val_loss: 0.1497 - val_accuracy: 0.9575\n",
      "Epoch 28/30\n",
      "613/613 [==============================] - 107s 175ms/step - loss: 0.1003 - accuracy: 0.9694 - val_loss: 0.1501 - val_accuracy: 0.9596\n",
      "Epoch 29/30\n",
      "613/613 [==============================] - 108s 177ms/step - loss: 0.0994 - accuracy: 0.9699 - val_loss: 0.1572 - val_accuracy: 0.9572\n",
      "Epoch 30/30\n",
      "613/613 [==============================] - 107s 174ms/step - loss: 0.0925 - accuracy: 0.9714 - val_loss: 0.1701 - val_accuracy: 0.9554\n"
     ]
    }
   ],
   "source": [
    "history = model.fit(\n",
    "    train_data_gen,\n",
    "    epochs=epochs,\n",
    "    validation_data=val_data_gen,\n",
    "    class_weight=class_weights,\n",
    "    verbose = 1\n",
    ")"
   ]
  },
  {
   "cell_type": "code",
   "execution_count": 16,
   "metadata": {},
   "outputs": [
    {
     "data": {
      "image/png": "[encoded data removed]",
      "text/plain": [
       "<Figure size 576x576 with 2 Axes>"
      ]
     },
     "metadata": {
      "needs_background": "light"
     },
     "output_type": "display_data"
    }
   ],
   "source": [
    "import matplotlib.pyplot as plt\n",
    "acc = history.history['accuracy']\n",
    "val_acc = history.history['val_accuracy']\n",
    "\n",
    "loss = history.history['loss']\n",
    "val_loss = history.history['val_loss']\n",
    "\n",
    "epochs_range = range(epochs)\n",
    "\n",
    "plt.figure(figsize=(8, 8))\n",
    "plt.subplot(1, 2, 1)\n",
    "plt.plot(epochs_range, acc, label='Training Accuracy')\n",
    "plt.plot(epochs_range, val_acc, label='Validation Accuracy')\n",
    "plt.legend(loc='lower right')\n",
    "plt.title('Training and Validation Accuracy')\n",
    "\n",
    "plt.subplot(1, 2, 2)\n",
    "plt.plot(epochs_range, loss, label='Training Loss')\n",
    "plt.plot(epochs_range, val_loss, label='Validation Loss')\n",
    "plt.legend(loc='upper right')\n",
    "plt.title('Training and Validation Loss')\n",
    "plt.show()"
   ]
  },
  {
   "cell_type": "code",
   "execution_count": 18,
   "metadata": {},
   "outputs": [
    {
     "name": "stdout",
     "output_type": "stream",
     "text": [
      "WARNING:tensorflow:sample_weight modes were coerced from\n",
      "  ...\n",
      "    to  \n",
      "  ['...']\n",
      "40/40 [==============================] - 8s 190ms/step - loss: 0.1916 - accuracy: 0.9513\n"
     ]
    }
   ],
   "source": [
    "test_loss, test_accuracy = model.evaluate(test_data_gen)"
   ]
  },
  {
   "cell_type": "code",
   "execution_count": 19,
   "metadata": {},
   "outputs": [],
   "source": [
    "model.save('TrafficSignRecModel.h5')"
   ]
  },
  {
   "cell_type": "code",
   "execution_count": null,
   "metadata": {},
   "outputs": [],
   "source": []
  }
 ],
 "metadata": {
  "kernelspec": {
   "display_name": "Python [conda env:py3-TF2.0]",
   "language": "python",
   "name": "conda-env-py3-TF2.0-py"
  },
  "language_info": {
   "codemirror_mode": {
    "name": "ipython",
    "version": 3
   },
   "file_extension": ".py",
   "mimetype": "text/x-python",
   "name": "python",
   "nbconvert_exporter": "python",
   "pygments_lexer": "ipython3",
   "version": "3.7.7"
  }
 },
 "nbformat": 4,
 "nbformat_minor": 4
}
